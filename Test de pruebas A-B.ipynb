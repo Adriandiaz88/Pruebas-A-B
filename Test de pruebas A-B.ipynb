{
 "cells": [
  {
   "cell_type": "markdown",
   "metadata": {},
   "source": [
    "# Introducción"
   ]
  },
  {
   "cell_type": "markdown",
   "metadata": {},
   "source": [
    "Hemos recibido una tarea analítica de una tienda en línea internacional. No se logro completar anteriomente: lanzaron una prueba A/B y luego abandonaron. Tenemos especificaciones técnicas y los resultados de las pruebas.\n",
    "\n",
    "En nuestro caso hay que analizar las pruebas y continuar con los casos hasta obener una respuesta si es una prueba viable o habrá que descartarla para realizar otras pruebas en un futuro."
   ]
  },
  {
   "cell_type": "markdown",
   "metadata": {},
   "source": [
    "## Cargamos librerias y datasets"
   ]
  },
  {
   "cell_type": "code",
   "execution_count": 1,
   "metadata": {},
   "outputs": [],
   "source": [
    "#Cargamos librerias\n",
    "import pandas as pd\n",
    "import numpy as np\n",
    "import math as mt \n",
    "import matplotlib.pyplot as plt\n",
    "import seaborn as sns\n",
    "import statistics as stat\n",
    "import plotly.express as px\n",
    "from statsmodels.stats.proportion import proportions_ztest\n",
    "from scipy import stats as st\n",
    "from math import factorial"
   ]
  },
  {
   "cell_type": "code",
   "execution_count": 2,
   "metadata": {},
   "outputs": [],
   "source": [
    "marketing = pd.read_csv('/datasets/ab_project_marketing_events_us.csv', sep=\",\")\n",
    "users = pd.read_csv('/datasets/final_ab_new_users_upd_us.csv', sep=\",\")\n",
    "events = pd.read_csv('/datasets/final_ab_events_upd_us.csv', sep=\",\")\n",
    "participants = pd.read_csv('/datasets/final_ab_participants_upd_us.csv', sep=\",\")"
   ]
  },
  {
   "cell_type": "markdown",
   "metadata": {},
   "source": [
    "## Objetivos del análisis"
   ]
  },
  {
   "cell_type": "markdown",
   "metadata": {},
   "source": [
    "Evaluaremos la efectividad de las pruebas A/B realizadas:\n",
    "\n",
    "Nombre de la prueba: recommender_system_test\n",
    "\n",
    "¿Hay diferencias significativas en el comportamiento de los usuarios entre los grupos de control (A) y tratamiento (B) en las pruebas?\n",
    "\n",
    "Analizaremos la influencia de campañas de marketing.\n",
    "\n",
    "Identificaremos si alguna campaña afecta los resultados de las pruebas A/B  y actividad de los usuarios.\n",
    "\n",
    "Caracterizar a los usuarios participantes:\n",
    "\n",
    "Evaluar distribución de región, dispositivo utilizado y actividad para detectar posibles sesgos en la asignación de grupos.\n",
    "\n",
    "Haremos analisis y revisaremos si los valores nulos y si hay duplicados que puedan afectar la prueba."
   ]
  },
  {
   "cell_type": "markdown",
   "metadata": {},
   "source": [
    "## Hacemos analisis y limpieza de los datasets"
   ]
  },
  {
   "cell_type": "code",
   "execution_count": 3,
   "metadata": {},
   "outputs": [
    {
     "name": "stdout",
     "output_type": "stream",
     "text": [
      "<class 'pandas.core.frame.DataFrame'>\n",
      "RangeIndex: 14 entries, 0 to 13\n",
      "Data columns (total 4 columns):\n",
      " #   Column     Non-Null Count  Dtype \n",
      "---  ------     --------------  ----- \n",
      " 0   name       14 non-null     object\n",
      " 1   regions    14 non-null     object\n",
      " 2   start_dt   14 non-null     object\n",
      " 3   finish_dt  14 non-null     object\n",
      "dtypes: object(4)\n",
      "memory usage: 576.0+ bytes\n",
      "\n",
      "                           name                   regions    start_dt  \\\n",
      "0      Christmas&New Year Promo             EU, N.America  2020-12-25   \n",
      "1  St. Valentine's Day Giveaway  EU, CIS, APAC, N.America  2020-02-14   \n",
      "2        St. Patric's Day Promo             EU, N.America  2020-03-17   \n",
      "3                  Easter Promo  EU, CIS, APAC, N.America  2020-04-12   \n",
      "4             4th of July Promo                 N.America  2020-07-04   \n",
      "\n",
      "    finish_dt  \n",
      "0  2021-01-03  \n",
      "1  2020-02-16  \n",
      "2  2020-03-19  \n",
      "3  2020-04-19  \n",
      "4  2020-07-11  \n",
      "\n",
      "name         0\n",
      "regions      0\n",
      "start_dt     0\n",
      "finish_dt    0\n",
      "dtype: int64\n",
      "\n",
      "                                   name regions    start_dt   finish_dt\n",
      "count                                14      14          14          14\n",
      "unique                               14       6          14          14\n",
      "top     Victory Day CIS (May 9th) Event    APAC  2020-01-25  2021-01-03\n",
      "freq                                  1       4           1           1\n",
      "\n",
      "Valores duplicados:  0\n"
     ]
    }
   ],
   "source": [
    "marketing.info()\n",
    "print()\n",
    "print(marketing.head())\n",
    "print()\n",
    "print(marketing.isna().sum())\n",
    "print()\n",
    "print(marketing.describe())\n",
    "print()\n",
    "print(\"Valores duplicados: \", marketing.duplicated(subset=marketing.columns, keep=False).sum())  # keep=False marca todos los duplicado"
   ]
  },
  {
   "cell_type": "code",
   "execution_count": 4,
   "metadata": {},
   "outputs": [
    {
     "name": "stdout",
     "output_type": "stream",
     "text": [
      "<class 'pandas.core.frame.DataFrame'>\n",
      "RangeIndex: 58703 entries, 0 to 58702\n",
      "Data columns (total 4 columns):\n",
      " #   Column      Non-Null Count  Dtype \n",
      "---  ------      --------------  ----- \n",
      " 0   user_id     58703 non-null  object\n",
      " 1   first_date  58703 non-null  object\n",
      " 2   region      58703 non-null  object\n",
      " 3   device      58703 non-null  object\n",
      "dtypes: object(4)\n",
      "memory usage: 1.8+ MB\n",
      "\n",
      "            user_id  first_date     region   device\n",
      "0  D72A72121175D8BE  2020-12-07         EU       PC\n",
      "1  F1C668619DFE6E65  2020-12-07  N.America  Android\n",
      "2  2E1BF1D4C37EA01F  2020-12-07         EU       PC\n",
      "3  50734A22C0C63768  2020-12-07         EU   iPhone\n",
      "4  E1BDDCE0DAFA2679  2020-12-07  N.America   iPhone\n",
      "\n",
      "user_id       0\n",
      "first_date    0\n",
      "region        0\n",
      "device        0\n",
      "dtype: int64\n",
      "\n",
      "                 user_id  first_date region   device\n",
      "count              58703       58703  58703    58703\n",
      "unique             58703          17      4        4\n",
      "top     043B86353B53C29A  2020-12-21     EU  Android\n",
      "freq                   1        6077  43396    26159\n",
      "\n",
      "Valores duplicados:  0\n"
     ]
    }
   ],
   "source": [
    "users.info()\n",
    "print()\n",
    "print(users.head())\n",
    "print()\n",
    "print(users.isna().sum())\n",
    "print()\n",
    "print(users.describe())\n",
    "print()\n",
    "print(\"Valores duplicados: \", users.duplicated(subset=users.columns, keep=False).sum())  # keep=False marca todos los duplicado"
   ]
  },
  {
   "cell_type": "code",
   "execution_count": 5,
   "metadata": {},
   "outputs": [
    {
     "name": "stdout",
     "output_type": "stream",
     "text": [
      "<class 'pandas.core.frame.DataFrame'>\n",
      "RangeIndex: 423761 entries, 0 to 423760\n",
      "Data columns (total 4 columns):\n",
      " #   Column      Non-Null Count   Dtype  \n",
      "---  ------      --------------   -----  \n",
      " 0   user_id     423761 non-null  object \n",
      " 1   event_dt    423761 non-null  object \n",
      " 2   event_name  423761 non-null  object \n",
      " 3   details     60314 non-null   float64\n",
      "dtypes: float64(1), object(3)\n",
      "memory usage: 12.9+ MB\n",
      "\n",
      "            user_id             event_dt event_name  details\n",
      "0  E1BDDCE0DAFA2679  2020-12-07 20:22:03   purchase    99.99\n",
      "1  7B6452F081F49504  2020-12-07 09:22:53   purchase     9.99\n",
      "2  9CD9F34546DF254C  2020-12-07 12:59:29   purchase     4.99\n",
      "3  96F27A054B191457  2020-12-07 04:02:40   purchase     4.99\n",
      "4  1FD7660FDF94CA1F  2020-12-07 10:15:09   purchase     4.99\n",
      "\n",
      "user_id            0\n",
      "event_dt           0\n",
      "event_name         0\n",
      "details       363447\n",
      "dtype: int64\n",
      "\n",
      "            details\n",
      "count  60314.000000\n",
      "mean      23.881219\n",
      "std       72.228884\n",
      "min        4.990000\n",
      "25%        4.990000\n",
      "50%        4.990000\n",
      "75%        9.990000\n",
      "max      499.990000\n",
      "\n",
      "Valores duplicados:  0\n"
     ]
    }
   ],
   "source": [
    "events.info()\n",
    "print()\n",
    "print(events.head())\n",
    "print()\n",
    "print(events.isna().sum())\n",
    "print()\n",
    "print(events.describe())\n",
    "print()\n",
    "print(\"Valores duplicados: \", events.duplicated(subset=events.columns, keep=False).sum())  # keep=False marca todos los duplicado"
   ]
  },
  {
   "cell_type": "code",
   "execution_count": 6,
   "metadata": {},
   "outputs": [
    {
     "name": "stdout",
     "output_type": "stream",
     "text": [
      "<class 'pandas.core.frame.DataFrame'>\n",
      "RangeIndex: 14525 entries, 0 to 14524\n",
      "Data columns (total 3 columns):\n",
      " #   Column   Non-Null Count  Dtype \n",
      "---  ------   --------------  ----- \n",
      " 0   user_id  14525 non-null  object\n",
      " 1   group    14525 non-null  object\n",
      " 2   ab_test  14525 non-null  object\n",
      "dtypes: object(3)\n",
      "memory usage: 340.6+ KB\n",
      "\n",
      "            user_id group                  ab_test\n",
      "0  D1ABA3E2887B6A73     A  recommender_system_test\n",
      "1  A7A3664BD6242119     A  recommender_system_test\n",
      "2  DABC14FDDFADD29E     A  recommender_system_test\n",
      "3  04988C5DF189632E     A  recommender_system_test\n",
      "4  4FF2998A348C484F     A  recommender_system_test\n",
      "\n",
      "user_id    0\n",
      "group      0\n",
      "ab_test    0\n",
      "dtype: int64\n",
      "\n",
      "                 user_id  group            ab_test\n",
      "count              14525  14525              14525\n",
      "unique             13638      2                  2\n",
      "top     C57E6C4AFF4FF31A      A  interface_eu_test\n",
      "freq                   2   8214              10850\n",
      "\n",
      "Valores duplicados:  0\n"
     ]
    }
   ],
   "source": [
    "participants.info()\n",
    "print()\n",
    "print(participants.head())\n",
    "print()\n",
    "print(participants.isna().sum())\n",
    "print()\n",
    "print(participants.describe())\n",
    "print()\n",
    "print(\"Valores duplicados: \", participants.duplicated(subset=participants.columns, keep=False).sum())  # keep=False marca todos los duplicado"
   ]
  },
  {
   "cell_type": "markdown",
   "metadata": {},
   "source": [
    "el dataframe de events la columna details tiene 363,447 valores ausentes, pero, los eventos que no son purchase no requieren el campo details.\n",
    "Hay que confirmar que todos los eventos que sean \"purchase\" tengan details no nulos.\n",
    "\n",
    "Se encontraron duplicados en user_id: 14,525 filas vs 13,638 user_id únicos. Lo más probable es que usuarios participaron en múltiples pruebas A/B, eso puede llevar a una contaminación de resultados si las pruebas se ejecutaron simultáneamente.\n",
    "\n",
    "Hay que cambiar los formatos de fechas a datetime:\n",
    "\n",
    "Marketing:\n",
    "start_dt y finish_dt \n",
    "\n",
    "Users:\n",
    "first_date \n",
    "\n",
    "Events:\n",
    "event_dt "
   ]
  },
  {
   "cell_type": "code",
   "execution_count": 7,
   "metadata": {},
   "outputs": [
    {
     "data": {
      "text/html": [
       "<div>\n",
       "<style scoped>\n",
       "    .dataframe tbody tr th:only-of-type {\n",
       "        vertical-align: middle;\n",
       "    }\n",
       "\n",
       "    .dataframe tbody tr th {\n",
       "        vertical-align: top;\n",
       "    }\n",
       "\n",
       "    .dataframe thead th {\n",
       "        text-align: right;\n",
       "    }\n",
       "</style>\n",
       "<table border=\"1\" class=\"dataframe\">\n",
       "  <thead>\n",
       "    <tr style=\"text-align: right;\">\n",
       "      <th></th>\n",
       "      <th>count</th>\n",
       "      <th>mean</th>\n",
       "      <th>std</th>\n",
       "      <th>min</th>\n",
       "      <th>25%</th>\n",
       "      <th>50%</th>\n",
       "      <th>75%</th>\n",
       "      <th>max</th>\n",
       "    </tr>\n",
       "    <tr>\n",
       "      <th>event_name</th>\n",
       "      <th></th>\n",
       "      <th></th>\n",
       "      <th></th>\n",
       "      <th></th>\n",
       "      <th></th>\n",
       "      <th></th>\n",
       "      <th></th>\n",
       "      <th></th>\n",
       "    </tr>\n",
       "  </thead>\n",
       "  <tbody>\n",
       "    <tr>\n",
       "      <th>login</th>\n",
       "      <td>0.0</td>\n",
       "      <td>NaN</td>\n",
       "      <td>NaN</td>\n",
       "      <td>NaN</td>\n",
       "      <td>NaN</td>\n",
       "      <td>NaN</td>\n",
       "      <td>NaN</td>\n",
       "      <td>NaN</td>\n",
       "    </tr>\n",
       "    <tr>\n",
       "      <th>product_cart</th>\n",
       "      <td>0.0</td>\n",
       "      <td>NaN</td>\n",
       "      <td>NaN</td>\n",
       "      <td>NaN</td>\n",
       "      <td>NaN</td>\n",
       "      <td>NaN</td>\n",
       "      <td>NaN</td>\n",
       "      <td>NaN</td>\n",
       "    </tr>\n",
       "    <tr>\n",
       "      <th>product_page</th>\n",
       "      <td>0.0</td>\n",
       "      <td>NaN</td>\n",
       "      <td>NaN</td>\n",
       "      <td>NaN</td>\n",
       "      <td>NaN</td>\n",
       "      <td>NaN</td>\n",
       "      <td>NaN</td>\n",
       "      <td>NaN</td>\n",
       "    </tr>\n",
       "    <tr>\n",
       "      <th>purchase</th>\n",
       "      <td>60314.0</td>\n",
       "      <td>23.881219</td>\n",
       "      <td>72.228884</td>\n",
       "      <td>4.99</td>\n",
       "      <td>4.99</td>\n",
       "      <td>4.99</td>\n",
       "      <td>9.99</td>\n",
       "      <td>499.99</td>\n",
       "    </tr>\n",
       "  </tbody>\n",
       "</table>\n",
       "</div>"
      ],
      "text/plain": [
       "                count       mean        std   min   25%   50%   75%     max\n",
       "event_name                                                                 \n",
       "login             0.0        NaN        NaN   NaN   NaN   NaN   NaN     NaN\n",
       "product_cart      0.0        NaN        NaN   NaN   NaN   NaN   NaN     NaN\n",
       "product_page      0.0        NaN        NaN   NaN   NaN   NaN   NaN     NaN\n",
       "purchase      60314.0  23.881219  72.228884  4.99  4.99  4.99  9.99  499.99"
      ]
     },
     "execution_count": 7,
     "metadata": {},
     "output_type": "execute_result"
    }
   ],
   "source": [
    "events.groupby(\"event_name\")[\"details\"].describe()"
   ]
  },
  {
   "cell_type": "code",
   "execution_count": 8,
   "metadata": {},
   "outputs": [
    {
     "name": "stdout",
     "output_type": "stream",
     "text": [
      "                user_id             event_dt event_name  details\n",
      "0      E1BDDCE0DAFA2679  2020-12-07 20:22:03   purchase    99.99\n",
      "1      7B6452F081F49504  2020-12-07 09:22:53   purchase     9.99\n",
      "2      9CD9F34546DF254C  2020-12-07 12:59:29   purchase     4.99\n",
      "3      96F27A054B191457  2020-12-07 04:02:40   purchase     4.99\n",
      "4      1FD7660FDF94CA1F  2020-12-07 10:15:09   purchase     4.99\n",
      "...                 ...                  ...        ...      ...\n",
      "60309  1455450835F72F5E  2020-12-30 09:27:10   purchase     4.99\n",
      "60310  339C4C55021A83C6  2020-12-30 12:55:08   purchase     9.99\n",
      "60311  D1553B56FFA8974B  2020-12-30 03:15:35   purchase     4.99\n",
      "60312  245E85F65C358E08  2020-12-30 19:35:55   purchase     9.99\n",
      "60313  F80C9BDDEA02E53C  2020-12-30 09:53:39   purchase     4.99\n",
      "\n",
      "[60314 rows x 4 columns]\n"
     ]
    }
   ],
   "source": [
    "print (events[events[\"event_name\"] == \"purchase\"])"
   ]
  },
  {
   "cell_type": "code",
   "execution_count": 9,
   "metadata": {},
   "outputs": [
    {
     "name": "stdout",
     "output_type": "stream",
     "text": [
      "Usuarios duplicados en la prueba: 0\n",
      "Empty DataFrame\n",
      "Columns: [user_id, ab_test, counts]\n",
      "Index: []\n",
      "Usuarios duplicados en el mismo grupo: 446\n",
      "                user_id group  counts\n",
      "1      001064FEAAB631A1     B       2\n",
      "8      00341D8401F0F665     A       2\n",
      "43     00EFA157F7B6E1C4     A       2\n",
      "83     01B9975CAE144B78     A       2\n",
      "96     020A95B66F363AFB     B       2\n",
      "...                 ...   ...     ...\n",
      "13881  FC37CBE8211E02A8     B       2\n",
      "13916  FCF70F6E1871BD78     A       2\n",
      "14004  FE82D7FC50D4155B     A       2\n",
      "14045  FF2174A1AA0EAD20     A       2\n",
      "14050  FF44696E39039D29     A       2\n",
      "\n",
      "[446 rows x 3 columns]\n"
     ]
    }
   ],
   "source": [
    "# Identificar duplicados por user_id y ab_test\n",
    "duplicates_ab_test = participants.groupby(['user_id', 'ab_test']).size().reset_index(name='counts')\n",
    "duplicates_ab_test = duplicates_ab_test[duplicates_ab_test['counts'] > 1]\n",
    "\n",
    "# Mostrar usuarios duplicados por test\n",
    "print(f\"Usuarios duplicados en la prueba: {len(duplicates_ab_test)}\")\n",
    "print(duplicates_ab_test)\n",
    "\n",
    "# Identificar duplicados por user_id y grupo\n",
    "duplicates_group = participants.groupby(['user_id', 'group']).size().reset_index(name='counts')\n",
    "duplicates_group = duplicates_group[duplicates_group['counts'] > 1]\n",
    "\n",
    "# Mostrar usuarios duplicados por grupo\n",
    "print(f\"Usuarios duplicados en el mismo grupo: {len(duplicates_group)}\")\n",
    "print(duplicates_group)"
   ]
  },
  {
   "cell_type": "markdown",
   "metadata": {},
   "source": [
    "En los datos nulos de details por evento, podemos comprobar que no hay datos nulos que afecten la prueba ya que el evento \"purchase\"  no contiene datos nulos.\n",
    "\n",
    "y de los 446 duplicados que se encontrarón al agrupar por grupo son usuarios en diferentes pruebas, lo cual no afecta los resultados ya que se encuentran en pruebas distintas, no hay necesidad de eliminar los registros, ya que reflejan la participación legítima en múltiples pruebas."
   ]
  },
  {
   "cell_type": "code",
   "execution_count": 10,
   "metadata": {},
   "outputs": [],
   "source": [
    "# Convertimos a datetime\n",
    "marketing['start_dt'] = pd.to_datetime(marketing['start_dt'])\n",
    "marketing['finish_dt'] = pd.to_datetime(marketing['finish_dt'])\n",
    "users['first_date'] = pd.to_datetime(users['first_date'])\n",
    "events['event_dt'] = pd.to_datetime(events['event_dt'])"
   ]
  },
  {
   "cell_type": "markdown",
   "metadata": {},
   "source": [
    "## Llevamos a cabo el análisis exploratorio de datos"
   ]
  },
  {
   "cell_type": "markdown",
   "metadata": {},
   "source": [
    "### Estudiamos la conversión en las diferentes etapas del embudo"
   ]
  },
  {
   "cell_type": "code",
   "execution_count": 11,
   "metadata": {},
   "outputs": [
    {
     "name": "stdout",
     "output_type": "stream",
     "text": [
      "          stage  users  conversion_rate\n",
      "0         login  58696       100.000000\n",
      "1  product_page  38929        66.323088\n",
      "2  product_cart  19284        32.854028\n",
      "3      purchase  19568        33.337877\n"
     ]
    },
    {
     "data": {
      "image/png": "[encoded data removed]",
      "text/plain": [
       "<Figure size 1000x600 with 1 Axes>"
      ]
     },
     "metadata": {},
     "output_type": "display_data"
    }
   ],
   "source": [
    "# Juntamos participantes con eventos para empezar con el embudo\n",
    "event_part_merged = pd.merge(users, events, on=\"user_id\", how=\"left\")\n",
    "event_part_merged = pd.merge(event_part_merged, participants, on=\"user_id\", how=\"left\")\n",
    "\n",
    "# Definimos etapas del embudo \n",
    "funnel_stages = [\"login\", \"product_page\", \"product_cart\", \"purchase\"]\n",
    "\n",
    "# Contamos usuarios únicos en cada etapa\n",
    "funnel = []\n",
    "for stage in funnel_stages:\n",
    "    stage_users = event_part_merged[event_part_merged[\"event_name\"] == stage][\"user_id\"].nunique()\n",
    "    funnel.append({\"stage\": stage, \"users\": stage_users})\n",
    "\n",
    "funnel_df = pd.DataFrame(funnel)\n",
    "\n",
    "# Calculamos la conversión\n",
    "funnel_df[\"conversion_rate\"] = funnel_df[\"users\"] / funnel_df[\"users\"].iloc[0] * 100\n",
    "\n",
    "print(funnel_df)\n",
    "\n",
    "# Visualizamos con un grafico de linea\n",
    "plt.figure(figsize=(10, 6))\n",
    "sns.lineplot(x=\"stage\", y=\"conversion_rate\", data=funnel_df, marker=\"o\")\n",
    "plt.title(\"Tasa de Conversión en el Embudo\")\n",
    "plt.ylabel(\"Conversión (%)\")\n",
    "plt.show()"
   ]
  },
  {
   "cell_type": "markdown",
   "metadata": {},
   "source": [
    "Se puede notar que hay una caida considerable de usuarios cuando llegan a \"product_cart\", es posible que haya un error en la pagina o exista un obstaculo para los usuarios poder llegar a la pagina, tambien hay una ligera mejora en \"purchase\", esto se puede deber a que se saltaron la pagina de producto en el carrito directo a la compra."
   ]
  },
  {
   "cell_type": "code",
   "execution_count": 12,
   "metadata": {},
   "outputs": [
    {
     "name": "stdout",
     "output_type": "stream",
     "text": [
      "device_type      Desktop      Mobile\n",
      "event_name                          \n",
      "login         100.000000  100.000000\n",
      "product_cart   32.798721   32.884019\n",
      "product_page   66.658591   66.141153\n",
      "purchase       33.607908   33.191445\n"
     ]
    }
   ],
   "source": [
    "# Clasificar dispositivos en móviles vs. desktop\n",
    "mobile_devices = ['iPhone', 'Android']\n",
    "desktop_devices = ['PC', 'Mac']\n",
    "\n",
    "event_part_merged['device_type'] = event_part_merged['device'].apply(\n",
    "    lambda x: 'Mobile' if x in mobile_devices else 'Desktop'\n",
    ")\n",
    "\n",
    "# Calcular tasas de conversión por dispositivo\n",
    "conversion_funnel_device = (\n",
    "    event_part_merged.groupby(['device_type', 'event_name'])['user_id']\n",
    "    .nunique()\n",
    "    .unstack(fill_value=0)\n",
    "    .T\n",
    ")\n",
    "\n",
    "# Convertir a porcentaje respecto al login\n",
    "conversion_funnel_device = (conversion_funnel_device / conversion_funnel_device.loc['login']) * 100\n",
    "\n",
    "print(conversion_funnel_device)\n"
   ]
  },
  {
   "cell_type": "markdown",
   "metadata": {},
   "source": [
    "### ¿El número de eventos por usuario está distribuido equitativamente entre las muestras?"
   ]
  },
  {
   "cell_type": "code",
   "execution_count": 13,
   "metadata": {},
   "outputs": [
    {
     "data": {
      "image/png": "[encoded data removed]",
      "text/plain": [
       "<Figure size 1000x600 with 1 Axes>"
      ]
     },
     "metadata": {},
     "output_type": "display_data"
    },
    {
     "name": "stdout",
     "output_type": "stream",
     "text": [
      "¿Las distribuciones son diferentes? Sí (p=1.4211342403215935e-05)\n"
     ]
    }
   ],
   "source": [
    "# Contar eventos por usuario y grupo\n",
    "events_per_user = event_part_merged.groupby([\"user_id\", \"group\"]).size().reset_index(name=\"event_count\")\n",
    "\n",
    "# Comparar distribuciones\n",
    "plt.figure(figsize=(10, 6))\n",
    "sns.boxplot(x=\"group\", y=\"event_count\", data=events_per_user)\n",
    "plt.title(\"Distribución de Eventos por Usuario\")\n",
    "plt.show()\n",
    "\n",
    "# Test estadístico\n",
    "from scipy.stats import mannwhitneyu\n",
    "group_a = events_per_user[events_per_user[\"group\"] == \"A\"][\"event_count\"]\n",
    "group_b = events_per_user[events_per_user[\"group\"] == \"B\"][\"event_count\"]\n",
    "stat, p_value = mannwhitneyu(group_a, group_b)\n",
    "\n",
    "print(f\"¿Las distribuciones son diferentes? {'Sí' if p_value < 0.05 else 'No'} (p={p_value:})\")"
   ]
  },
  {
   "cell_type": "markdown",
   "metadata": {},
   "source": [
    "### ¿Hay usuarios que están presentes en ambas muestras?"
   ]
  },
  {
   "cell_type": "markdown",
   "metadata": {},
   "source": [
    "Se realizó una prueba anteriormente para revisar los duplicados en los usuarios, pero, nos habíamos dado cuenta que aunque los usuarios estaban en ambos grupos, no se encontraban en las mismas pruebas, por ende no creo que afecte los resultados finales."
   ]
  },
  {
   "cell_type": "code",
   "execution_count": 14,
   "metadata": {},
   "outputs": [
    {
     "name": "stdout",
     "output_type": "stream",
     "text": [
      "Usuarios en ambos grupos de la misma prueba: 0\n"
     ]
    }
   ],
   "source": [
    "#Hacemos una prueba creando un filtro para revisar la diferencia de usuarios en las pruebas\n",
    "cross_group_users = event_part_merged.groupby([\"user_id\", \"ab_test\"])[\"group\"].nunique()\n",
    "cross_group_users = cross_group_users[cross_group_users > 1].reset_index()\n",
    "\n",
    "print(f\"Usuarios en ambos grupos de la misma prueba: {len(cross_group_users)}\")"
   ]
  },
  {
   "cell_type": "markdown",
   "metadata": {},
   "source": [
    "### ¿Cómo se distribuye el número de eventos entre los días?"
   ]
  },
  {
   "cell_type": "code",
   "execution_count": 15,
   "metadata": {},
   "outputs": [
    {
     "data": {
      "image/png": "[encoded data removed]",
      "text/plain": [
       "<Figure size 1200x600 with 1 Axes>"
      ]
     },
     "metadata": {},
     "output_type": "display_data"
    },
    {
     "name": "stdout",
     "output_type": "stream",
     "text": [
      "    event_date group  users\n",
      "0   2020-12-07     A   1375\n",
      "1   2020-12-07     B   1402\n",
      "2   2020-12-08     A   1493\n",
      "3   2020-12-08     B   1411\n",
      "4   2020-12-09     A   1557\n",
      "5   2020-12-09     B   1522\n",
      "6   2020-12-10     A   1638\n",
      "7   2020-12-10     B   1526\n",
      "8   2020-12-11     A   1672\n",
      "9   2020-12-11     B   1473\n",
      "10  2020-12-12     A   2173\n",
      "11  2020-12-12     B   1867\n",
      "12  2020-12-13     A   2335\n",
      "13  2020-12-13     B   2143\n",
      "14  2020-12-14     A   3582\n",
      "15  2020-12-14     B   2556\n",
      "16  2020-12-15     A   3294\n",
      "17  2020-12-15     B   2355\n",
      "18  2020-12-16     A   3179\n",
      "19  2020-12-16     B   2291\n",
      "20  2020-12-17     A   3366\n",
      "21  2020-12-17     B   2297\n",
      "22  2020-12-18     A   3496\n",
      "23  2020-12-18     B   2307\n",
      "24  2020-12-19     A   3706\n",
      "25  2020-12-19     B   2464\n",
      "26  2020-12-20     A   4040\n",
      "27  2020-12-20     B   2636\n",
      "28  2020-12-21     A   5057\n",
      "29  2020-12-21     B   3454\n",
      "30  2020-12-22     A   3970\n",
      "31  2020-12-22     B   2888\n",
      "32  2020-12-23     A   3454\n",
      "33  2020-12-23     B   2654\n",
      "34  2020-12-24     A   2730\n",
      "35  2020-12-24     B   2002\n",
      "36  2020-12-26     A   1929\n",
      "37  2020-12-26     B   1437\n",
      "38  2020-12-27     A   1802\n",
      "39  2020-12-27     B   1285\n",
      "40  2020-12-28     A   1537\n",
      "41  2020-12-28     B   1182\n",
      "42  2020-12-29     A   1306\n",
      "43  2020-12-29     B    975\n",
      "44  2020-12-30     A     14\n",
      "45  2020-12-30     B      6\n"
     ]
    }
   ],
   "source": [
    "event_part_merged[\"event_date\"] = pd.to_datetime(event_part_merged[\"event_dt\"]).dt.date\n",
    "\n",
    "# filtramos por día y grupo\n",
    "daily_events = event_part_merged.groupby([\"event_date\", \"group\"]).size().reset_index(name=\"users\")\n",
    "\n",
    "# Creamos una grafica de lineas para visualizacion\n",
    "plt.figure(figsize=(12, 6))\n",
    "sns.lineplot(x=\"event_date\", y=\"users\", hue=\"group\", data=daily_events)\n",
    "plt.title(\"Eventos por fecha\")\n",
    "plt.xticks(rotation=45)\n",
    "plt.show()\n",
    "\n",
    "#Imprimimos los numeros de usuario por día\n",
    "print(daily_events)"
   ]
  },
  {
   "cell_type": "markdown",
   "metadata": {},
   "source": [
    "La gráfica muestra el número de eventos de usuario diarios desde el 7 de diciembre de 2020 hasta el 29 de diciembre de 2020.\n",
    "\n",
    "Ambos grupos muestran un crecimiento en el número de eventos desde el inicio del periodo hasta alrededor del 21 de diciembre.\n",
    "\n",
    "Se observa un pico de actividad para ambos grupos alrededor del 21 de diciembre, siendo más pronunciado en el grupo A. Esto podría deberse a las fiestas navideñas.\n",
    "\n",
    "Después del 21 de diciembre, el número de eventos disminuye en ambos grupos, lo que probablemente refleja una disminución en la actividad de los usuarios después del periodo de compras navideñas.\n",
    "\n",
    "En general, el grupo A presenta un mayor número de eventos diarios en comparación con el grupo B durante todo el periodo analizado."
   ]
  },
  {
   "cell_type": "code",
   "execution_count": 16,
   "metadata": {},
   "outputs": [
    {
     "data": {
      "text/plain": [
       "0        2020-12-07 21:52:10\n",
       "1        2020-12-07 21:52:07\n",
       "2        2020-12-07 16:38:09\n",
       "3        2020-12-08 02:02:34\n",
       "4        2020-12-23 14:35:41\n",
       "                 ...        \n",
       "429471   2020-12-21 04:31:15\n",
       "429472   2020-12-23 15:47:23\n",
       "429473   2020-12-27 03:51:35\n",
       "429474   2020-12-20 03:17:17\n",
       "429475   2020-12-20 03:17:17\n",
       "Name: event_dt, Length: 429476, dtype: datetime64[ns]"
      ]
     },
     "execution_count": 16,
     "metadata": {},
     "output_type": "execute_result"
    }
   ],
   "source": [
    "event_part_merged['event_dt']"
   ]
  },
  {
   "cell_type": "code",
   "execution_count": 17,
   "metadata": {},
   "outputs": [
    {
     "name": "stdout",
     "output_type": "stream",
     "text": [
      "     event_name  user_id  conversion_rate\n",
      "0         login    57892       100.000000\n",
      "1  product_cart    19034        32.878463\n",
      "2  product_page    38406        66.340772\n",
      "3      purchase    19300        33.337940\n"
     ]
    }
   ],
   "source": [
    "# Excluimos el 21 de diciembre filtrando\n",
    "filtered_data = event_part_merged[event_part_merged['event_dt'].dt.date != pd.to_datetime('2020-12-21').date()]\n",
    "\n",
    "# Hacemos un calculo del embudo\n",
    "conversion_funnel_filtered = (\n",
    "    filtered_data.groupby('event_name')['user_id']\n",
    "    .nunique()\n",
    "    .reset_index()\n",
    ")\n",
    "\n",
    "conversion_funnel_filtered['conversion_rate'] = (\n",
    "    conversion_funnel_filtered['user_id'] / conversion_funnel_filtered.loc[conversion_funnel_filtered['event_name'] == 'login', 'user_id'].values[0] * 100\n",
    ")\n",
    "\n",
    "print(conversion_funnel_filtered)"
   ]
  },
  {
   "cell_type": "markdown",
   "metadata": {},
   "source": [
    "### ¿Hay alguna peculiaridad en los datos que hay que tener en cuenta antes de iniciar la prueba A/B?"
   ]
  },
  {
   "cell_type": "markdown",
   "metadata": {},
   "source": [
    "La campaña navideña coincide con la prueba A/B:"
   ]
  },
  {
   "cell_type": "code",
   "execution_count": 19,
   "metadata": {},
   "outputs": [
    {
     "name": "stdout",
     "output_type": "stream",
     "text": [
      "Eventos durante la campaña: 48372 (11.3% del total)\n"
     ]
    }
   ],
   "source": [
    "# Filtramos eventos\n",
    "campaign_events = event_part_merged[\n",
    "    (event_part_merged[\"event_date\"] >= pd.to_datetime(\"2020-12-25\")) &\n",
    "    (event_part_merged[\"event_date\"] <= pd.to_datetime(\"2021-01-03\"))\n",
    "]\n",
    "\n",
    "print(f\"Eventos durante la campaña: {len(campaign_events)} ({len(campaign_events)/len(event_part_merged)*100:.1f}% del total)\")"
   ]
  },
  {
   "cell_type": "code",
   "execution_count": 20,
   "metadata": {},
   "outputs": [
    {
     "name": "stdout",
     "output_type": "stream",
     "text": [
      "     event_name  event_count\n",
      "0         login     8.701501\n",
      "1  product_cart    11.198198\n",
      "2  product_page     9.986811\n",
      "3      purchase    11.261966\n"
     ]
    }
   ],
   "source": [
    "# Contamos eventos por usuario\n",
    "user_activity = event_part_merged.groupby('user_id')['event_name'].count().reset_index()\n",
    "user_activity.columns = ['user_id', 'event_count']\n",
    "\n",
    "event_part_merged = event_part_merged.merge(user_activity, on='user_id', how='left')\n",
    "\n",
    "# Calculamos la tasa de conversión\n",
    "conversion_rate_adjusted = (\n",
    "    event_part_merged.groupby('event_name')['event_count'].mean().reset_index()\n",
    ")\n",
    "\n",
    "print(conversion_rate_adjusted)"
   ]
  },
  {
   "cell_type": "markdown",
   "metadata": {},
   "source": [
    "Desbalanceo inicial de grupos"
   ]
  },
  {
   "cell_type": "code",
   "execution_count": 21,
   "metadata": {},
   "outputs": [
    {
     "name": "stdout",
     "output_type": "stream",
     "text": [
      "ab_test                  group\n",
      "interface_eu_test        A        5467\n",
      "                         B        5383\n",
      "recommender_system_test  A        2747\n",
      "                         B         928\n",
      "dtype: int64\n"
     ]
    }
   ],
   "source": [
    "group_distribution = participants.groupby([\"ab_test\", \"group\"]).size()\n",
    "print(group_distribution)"
   ]
  },
  {
   "cell_type": "markdown",
   "metadata": {},
   "source": [
    "Grupos de control y tratamiento con tamaños muy diferentes reducen el poder estadístico."
   ]
  },
  {
   "cell_type": "markdown",
   "metadata": {},
   "source": [
    "## Análisis de los Resultados de la Prueba A/B\n",
    "\n",
    "¿Qué puedes decir sobre los resultados de la prueba A/B?"
   ]
  },
  {
   "cell_type": "markdown",
   "metadata": {},
   "source": [
    "**Hay un desbalanceo significativo en la distribución de eventos entre grupos**\n",
    "\n",
    "El grupo A tiene más eventos por usuario que el grupo B lo que la muestra no es equilibrada.\n",
    "\n",
    "El pico del 21 de diciembre afectó más al grupo A (posiblemente debido a la campaña navideña).\n",
    "\n",
    "Las diferencias en la actividad de los usuarios invalidan la comparación directa, ya que no se está midiendo solo el efecto del tratamiento, sino también factores externos.\n",
    "\n",
    "**Efecto de la campaña navideña en los resultados**\n",
    "Eventos durante la campaña 11.3% del total, concentrados entre el 25/12 y el 03/01.\n",
    "\n",
    "El pico del 21 de diciembre podría estar relacionado con compras anticipadas para Navidad.\n",
    "\n",
    "La caída post-21/12 en ambos grupos muestra que los usuarios ya no tenían un interés por hacer compras en la pagina.\n",
    "\n",
    "La campaña enmascara el efecto real de la prueba A/B, especialmente si el grupo A tuvo mayor exposición a promociones durante ese período.\n",
    "\n",
    "**Distribución de grupos en interface_eu_test:**\n",
    "\n",
    "Grupo A: 5,467 usuarios\n",
    "\n",
    "Grupo B: 5,383 usuarios\n",
    "\n",
    "ligeramente equilibrado.\n",
    "\n",
    "**Distribución en recommender_system_test:**\n",
    "\n",
    "Grupo A: 2,747 usuarios\n",
    "\n",
    "Grupo B: 928 usuarios\n",
    "Desbalanceo crítico, lo que reduce el poder estadístico y aumenta el riesgo de falsos positivos.\n",
    "\n",
    "**Conversión en el embudo: El cuello de botella en \"product_cart\"**\n",
    "\n",
    "La caída del 80% en product_cart es una señal crítica en la experiencia del usuario, independientemente de la prueba A/B.\n",
    "\n",
    "Posibles causas:\n",
    "\n",
    "Errores técnicos en la página del carrito.\n",
    "\n",
    "Falta de claridad en costos adicionales.\n",
    "\n",
    "Proceso de checkout demasiado largo.\n",
    "\n",
    "Recuperación en \"purchase\":\n",
    "La ligera mejora sugiere que los usuarios que superan el cuello de botella tienen alta intención de compra, pero esto no compensa la pérdida masiva en etapas anteriores.\n",
    "\n",
    "**Conclusiones sobre la Prueba A/B:**\n",
    "\n",
    "El desbalanceo en eventos/grupos y el efecto de la campaña navideña invalidan la validez estadística de la prueba.\n",
    "\n",
    "No es posible atribuir diferencias en conversión al tratamiento con los datos actuales.\n",
    "\n",
    "**Recomendaciones para próximas pruebas:**\n",
    "\n",
    "Controlar variables externas: Ejecutar pruebas en períodos sin campañas de marketing.\n",
    "\n",
    "Balancear grupos: Asegurar igual tamaño y distribución de características.\n",
    "\n",
    "Segmentar análisis: Separar usuarios expuestos/no expuestos a la campaña navideña.\n",
    "\n",
    "Priorizar la optimización del embudo:\n",
    "\n",
    "Resolver el cuello de botella en product_cart podría aumentar la conversión general más que cualquier cambio testeado en la A/B.\n",
    "\n",
    "**Rediseñar la prueba A/B:**\n",
    "\n",
    "Incluir un período de post-campaña para evitar contaminación.\n",
    "\n",
    "Implementar seguimiento de microconversiones:\n",
    "\n",
    "Medir métricas como tiempo en product_cart o número de intentos fallidos para diagnosticar el cuello de botella."
   ]
  },
  {
   "cell_type": "markdown",
   "metadata": {},
   "source": [
    "### Utiliza una prueba z para comprobar la diferencia estadística entre las proporciones."
   ]
  },
  {
   "cell_type": "markdown",
   "metadata": {},
   "source": [
    "En este casó este será para una tipo muestra ya que los datos que tenemos son muy distintos uno de otro.\n",
    "\n",
    "Se hará primero un filtro para las compras por cada grupo y los resultados se utilizarán para la prueba."
   ]
  },
  {
   "cell_type": "code",
   "execution_count": 22,
   "metadata": {},
   "outputs": [
    {
     "name": "stdout",
     "output_type": "stream",
     "text": [
      "\n",
      " Resultados para interface_eu_test:\n",
      "Grupo A: 1931 compras (35.32%)\n",
      "Grupo B: 1782 compras (33.10%)\n",
      "Diferencia absoluta: -149 | Diferencia relativa: -2.22%\n",
      "Z-score: 2.4333679965735153 | p-value: 0.014959088807690158\n",
      "Significancia estadística: Sí\n"
     ]
    },
    {
     "data": {
      "image/png": "[encoded data removed]",
      "text/plain": [
       "<Figure size 800x400 with 1 Axes>"
      ]
     },
     "metadata": {},
     "output_type": "display_data"
    },
    {
     "name": "stdout",
     "output_type": "stream",
     "text": [
      "\n",
      " Resultados para recommender_system_test:\n",
      "Grupo A: 872 compras (31.74%)\n",
      "Grupo B: 256 compras (27.59%)\n",
      "Diferencia absoluta: -616 | Diferencia relativa: -4.16%\n",
      "Z-score: 2.3740870442615747 | p-value: 0.017592402663314678\n",
      "Significancia estadística: Sí\n"
     ]
    },
    {
     "data": {
      "image/png": "[encoded data removed]",
      "text/plain": [
       "<Figure size 800x400 with 1 Axes>"
      ]
     },
     "metadata": {},
     "output_type": "display_data"
    }
   ],
   "source": [
    "# Filtramos solo eventos de compra para prepararlos para el test\n",
    "purchases = events[events['event_name'] == 'purchase']\n",
    "unique_purchases = purchases[['user_id']].drop_duplicates()\n",
    "\n",
    "# Hacemos una fusión con participants\n",
    "purchase_merge = pd.merge(\n",
    "    participants,\n",
    "    unique_purchases,\n",
    "    on='user_id',\n",
    "    how='left',\n",
    "    indicator='purchased')\n",
    "purchase_merge['purchased'] = np.where(purchase_merge['purchased'] == 'both', 1, 0)\n",
    "\n",
    "\n",
    "# Calculamos métricas clave por grupo y prueba\n",
    "results = purchase_merge.groupby(['ab_test', 'group']).agg(\n",
    "    total_users=('user_id', 'count'),\n",
    "    conversions=('purchased', 'sum')\n",
    ").reset_index()\n",
    "\n",
    "# Sacamos la tasa de conversión\n",
    "results['conversion_rate'] = results['conversions'] / results['total_users'] * 100\n",
    "\n",
    "\n",
    "# Función para comparar grupos\n",
    "def compare_groups(stat_test):\n",
    "    test_data = results[results['ab_test'] == stat_test]\n",
    "    \n",
    "    # sacamos métricas para ambos grupos\n",
    "    group_a = test_data[test_data['group'] == 'A']\n",
    "    group_b = test_data[test_data['group'] == 'B']\n",
    "    \n",
    "    # preparamos datos para la prueba \n",
    "    successes = [group_a['conversions'].values[0], group_b['conversions'].values[0]]\n",
    "    trials = [group_a['total_users'].values[0], group_b['total_users'].values[0]]\n",
    "    \n",
    "    # Realizamos prueba Z\n",
    "    z_stat, p_value = proportions_ztest(successes, trials, alternative='two-sided')\n",
    "    \n",
    "    # diferencia absoluta y relativa\n",
    "    diff_abs = group_b['conversions'].values[0] - group_a['conversions'].values[0]\n",
    "    diff_rel = (group_b['conversion_rate'].values[0] - group_a['conversion_rate'].values[0])\n",
    "    \n",
    "   \n",
    "    print(f\"\\n Resultados para {stat_test}:\")\n",
    "    print(f\"Grupo A: {group_a['conversions'].values[0]} compras ({group_a['conversion_rate'].values[0]:.2f}%)\")\n",
    "    print(f\"Grupo B: {group_b['conversions'].values[0]} compras ({group_b['conversion_rate'].values[0]:.2f}%)\")\n",
    "    print(f\"Diferencia absoluta: {diff_abs} | Diferencia relativa: {diff_rel:.2f}%\")\n",
    "    print(f\"Z-score: {z_stat} | p-value: {p_value}\")\n",
    "    print(\"Significancia estadística:\", \"Sí\" if p_value < 0.05 else \"No\")\n",
    "    \n",
    "  # tabla para visualizar diferencias en resultados\n",
    "    plt.figure(figsize=(8, 4))\n",
    "    plt.bar(\n",
    "        ['Grupo A', 'Grupo B'],\n",
    "        [group_a['conversion_rate'].values[0], group_b['conversion_rate'].values[0]],\n",
    "        color=['#1f77b4', '#ff7f0e']\n",
    "    )\n",
    "    plt.title(f'Tasa de Conversión - {stat_test}\\n(p-valor = {p_value:.4f})')\n",
    "    plt.ylabel('Conversión (%)')\n",
    "    plt.ylim(0, max(group_a['conversion_rate'].values[0], group_b['conversion_rate'].values[0]) * 1.2)\n",
    "    plt.grid(axis='y', alpha=0.3)\n",
    "    plt.show()\n",
    "\n",
    "# Análisis para todas las pruebas\n",
    "for test in results['ab_test'].unique():\n",
    "    compare_groups(test)"
   ]
  },
  {
   "cell_type": "markdown",
   "metadata": {},
   "source": [
    "\n",
    "**Análisis de los Resultados de la Prueba A/B**\n",
    "\n",
    "Resultados:\n",
    "\n",
    "Ambas pruebas mostraron impacto negativo en la conversión:\n",
    "\n",
    "interface_eu_test: Grupo B  tuvo 2.22% menos conversiones que el Grupo A.\n",
    "\n",
    "recommender_system_test: Grupo B tuvo 4.16% menos conversiones que el Grupo A.\n",
    "\n",
    "Significancia estadística: Las diferencias no son aleatorias; los cambios en las pruebas empeoraron el desempeño.\n",
    "\n",
    "Hubo errores en la implementación, problemas técnicos en el rediseño de interfaz o sistema de recomendaciones.\n",
    "\n",
    "Los cambios que generaron confusión o mala experiencia .\n",
    "\n",
    "Advertencias Importantes:\n",
    "\n",
    "En recommender_system_test, el Grupo B era 3 veces más pequeño que el Grupo A, lo que limita los resultados.\n",
    "\n",
    "La caída del 80% en product_cart sugiere que el problema principal no son los cambios testeados, sino la experiencia en el carrito.\n",
    "\n",
    "Hay que priorizar la optimización del carrito (ejemplo: simplificar checkout, clarificar costos).\n",
    "\n",
    "Asegurar que no hubo errores de implementación en los tratamientos.\n",
    "\n",
    "Re-ejecutar pruebas A/B en períodos sin campañas y con grupos balanceados.\n",
    "\n",
    "Los cambios aplicados en ambas pruebas no son viables, y la prioridad debe ser resolver el cuello de botella en product_cart antes de testear nuevas hipótesis."
   ]
  },
  {
   "cell_type": "code",
   "execution_count": null,
   "metadata": {},
   "outputs": [],
   "source": []
  }
 ],
 "metadata": {
  "ExecuteTimeLog": [
   {
    "duration": 11,
    "start_time": "2025-02-04T03:01:20.535Z"
   },
   {
    "duration": 152,
    "start_time": "2025-02-04T03:06:32.248Z"
   },
   {
    "duration": 2537,
    "start_time": "2025-02-04T03:06:35.273Z"
   },
   {
    "duration": 391,
    "start_time": "2025-02-04T03:06:37.813Z"
   },
   {
    "duration": 28,
    "start_time": "2025-02-04T03:09:15.391Z"
   },
   {
    "duration": 78,
    "start_time": "2025-02-04T03:09:17.908Z"
   },
   {
    "duration": 230,
    "start_time": "2025-02-04T03:09:20.365Z"
   },
   {
    "duration": 28,
    "start_time": "2025-02-04T03:09:22.657Z"
   },
   {
    "duration": 2,
    "start_time": "2025-02-04T03:40:40.101Z"
   },
   {
    "duration": 34,
    "start_time": "2025-02-04T03:59:00.093Z"
   },
   {
    "duration": 370,
    "start_time": "2025-02-04T04:00:18.052Z"
   },
   {
    "duration": 5,
    "start_time": "2025-02-04T04:00:50.245Z"
   },
   {
    "duration": 38,
    "start_time": "2025-02-04T04:00:57.577Z"
   },
   {
    "duration": 57,
    "start_time": "2025-02-04T04:02:29.680Z"
   },
   {
    "duration": 38,
    "start_time": "2025-02-04T04:04:12.658Z"
   },
   {
    "duration": 25,
    "start_time": "2025-02-04T04:04:25.305Z"
   },
   {
    "duration": 19,
    "start_time": "2025-02-04T04:09:35.117Z"
   },
   {
    "duration": 884,
    "start_time": "2025-02-04T04:11:31.092Z"
   },
   {
    "duration": 339,
    "start_time": "2025-02-04T04:11:31.978Z"
   },
   {
    "duration": 22,
    "start_time": "2025-02-04T04:11:32.319Z"
   },
   {
    "duration": 96,
    "start_time": "2025-02-04T04:11:32.342Z"
   },
   {
    "duration": 264,
    "start_time": "2025-02-04T04:11:32.440Z"
   },
   {
    "duration": 30,
    "start_time": "2025-02-04T04:11:32.706Z"
   },
   {
    "duration": 55,
    "start_time": "2025-02-04T04:11:32.738Z"
   },
   {
    "duration": 39,
    "start_time": "2025-02-04T04:11:32.795Z"
   },
   {
    "duration": 20,
    "start_time": "2025-02-04T04:11:32.837Z"
   },
   {
    "duration": 850,
    "start_time": "2025-02-04T04:18:23.309Z"
   },
   {
    "duration": 349,
    "start_time": "2025-02-04T04:18:24.161Z"
   },
   {
    "duration": 21,
    "start_time": "2025-02-04T04:18:24.512Z"
   },
   {
    "duration": 91,
    "start_time": "2025-02-04T04:18:24.536Z"
   },
   {
    "duration": 284,
    "start_time": "2025-02-04T04:18:24.628Z"
   },
   {
    "duration": 28,
    "start_time": "2025-02-04T04:18:24.915Z"
   },
   {
    "duration": 66,
    "start_time": "2025-02-04T04:18:24.945Z"
   },
   {
    "duration": 26,
    "start_time": "2025-02-04T04:18:25.015Z"
   },
   {
    "duration": 33,
    "start_time": "2025-02-04T04:18:25.043Z"
   },
   {
    "duration": 76,
    "start_time": "2025-02-04T04:26:42.557Z"
   },
   {
    "duration": 2656,
    "start_time": "2025-02-05T04:21:48.164Z"
   },
   {
    "duration": 420,
    "start_time": "2025-02-05T04:21:50.822Z"
   },
   {
    "duration": 22,
    "start_time": "2025-02-05T04:21:51.244Z"
   },
   {
    "duration": 90,
    "start_time": "2025-02-05T04:21:51.268Z"
   },
   {
    "duration": 251,
    "start_time": "2025-02-05T04:21:51.361Z"
   },
   {
    "duration": 36,
    "start_time": "2025-02-05T04:21:51.614Z"
   },
   {
    "duration": 53,
    "start_time": "2025-02-05T04:21:51.651Z"
   },
   {
    "duration": 23,
    "start_time": "2025-02-05T04:21:51.706Z"
   },
   {
    "duration": 33,
    "start_time": "2025-02-05T04:21:51.743Z"
   },
   {
    "duration": 85,
    "start_time": "2025-02-05T04:21:51.777Z"
   },
   {
    "duration": 235,
    "start_time": "2025-02-05T04:32:50.799Z"
   },
   {
    "duration": 837,
    "start_time": "2025-02-05T04:58:20.949Z"
   },
   {
    "duration": 342,
    "start_time": "2025-02-05T04:58:21.788Z"
   },
   {
    "duration": 24,
    "start_time": "2025-02-05T04:58:22.131Z"
   },
   {
    "duration": 87,
    "start_time": "2025-02-05T04:58:22.156Z"
   },
   {
    "duration": 247,
    "start_time": "2025-02-05T04:58:22.245Z"
   },
   {
    "duration": 28,
    "start_time": "2025-02-05T04:58:22.494Z"
   },
   {
    "duration": 63,
    "start_time": "2025-02-05T04:58:22.523Z"
   },
   {
    "duration": 23,
    "start_time": "2025-02-05T04:58:22.588Z"
   },
   {
    "duration": 48,
    "start_time": "2025-02-05T04:58:22.613Z"
   },
   {
    "duration": 82,
    "start_time": "2025-02-05T04:58:22.663Z"
   },
   {
    "duration": 245,
    "start_time": "2025-02-05T04:58:22.747Z"
   },
   {
    "duration": 288,
    "start_time": "2025-02-05T04:58:22.993Z"
   },
   {
    "duration": 155,
    "start_time": "2025-02-05T05:03:55.057Z"
   },
   {
    "duration": 229,
    "start_time": "2025-02-05T05:11:27.851Z"
   },
   {
    "duration": 227,
    "start_time": "2025-02-05T05:12:51.718Z"
   },
   {
    "duration": 229,
    "start_time": "2025-02-05T05:13:00.582Z"
   },
   {
    "duration": 233,
    "start_time": "2025-02-05T05:13:16.072Z"
   },
   {
    "duration": 224,
    "start_time": "2025-02-05T05:13:39.882Z"
   },
   {
    "duration": 224,
    "start_time": "2025-02-05T05:34:55.309Z"
   },
   {
    "duration": 203,
    "start_time": "2025-02-05T05:54:43.459Z"
   },
   {
    "duration": 882,
    "start_time": "2025-02-05T06:02:22.816Z"
   },
   {
    "duration": 331,
    "start_time": "2025-02-05T06:02:23.701Z"
   },
   {
    "duration": 24,
    "start_time": "2025-02-05T06:02:24.034Z"
   },
   {
    "duration": 84,
    "start_time": "2025-02-05T06:02:24.061Z"
   },
   {
    "duration": 259,
    "start_time": "2025-02-05T06:02:24.148Z"
   },
   {
    "duration": 38,
    "start_time": "2025-02-05T06:02:24.410Z"
   },
   {
    "duration": 59,
    "start_time": "2025-02-05T06:02:24.449Z"
   },
   {
    "duration": 36,
    "start_time": "2025-02-05T06:02:24.510Z"
   },
   {
    "duration": 34,
    "start_time": "2025-02-05T06:02:24.547Z"
   },
   {
    "duration": 92,
    "start_time": "2025-02-05T06:02:24.583Z"
   },
   {
    "duration": 500,
    "start_time": "2025-02-05T06:02:24.677Z"
   },
   {
    "duration": 222,
    "start_time": "2025-02-05T06:02:25.184Z"
   },
   {
    "duration": 304,
    "start_time": "2025-02-05T06:07:33.964Z"
   },
   {
    "duration": 229,
    "start_time": "2025-02-05T06:08:31.836Z"
   },
   {
    "duration": 877,
    "start_time": "2025-02-05T06:09:34.849Z"
   },
   {
    "duration": 338,
    "start_time": "2025-02-05T06:09:35.728Z"
   },
   {
    "duration": 25,
    "start_time": "2025-02-05T06:09:36.070Z"
   },
   {
    "duration": 88,
    "start_time": "2025-02-05T06:09:36.097Z"
   },
   {
    "duration": 259,
    "start_time": "2025-02-05T06:09:36.190Z"
   },
   {
    "duration": 29,
    "start_time": "2025-02-05T06:09:36.451Z"
   },
   {
    "duration": 68,
    "start_time": "2025-02-05T06:09:36.482Z"
   },
   {
    "duration": 25,
    "start_time": "2025-02-05T06:09:36.552Z"
   },
   {
    "duration": 34,
    "start_time": "2025-02-05T06:09:36.578Z"
   },
   {
    "duration": 92,
    "start_time": "2025-02-05T06:09:36.614Z"
   },
   {
    "duration": 520,
    "start_time": "2025-02-05T06:09:36.708Z"
   },
   {
    "duration": 269,
    "start_time": "2025-02-05T06:09:37.230Z"
   },
   {
    "duration": 211,
    "start_time": "2025-02-05T06:10:14.226Z"
   },
   {
    "duration": 213,
    "start_time": "2025-02-05T06:10:31.072Z"
   },
   {
    "duration": 219,
    "start_time": "2025-02-05T06:10:39.067Z"
   },
   {
    "duration": 212,
    "start_time": "2025-02-05T06:10:46.598Z"
   },
   {
    "duration": 216,
    "start_time": "2025-02-05T06:11:51.101Z"
   },
   {
    "duration": 219,
    "start_time": "2025-02-05T06:12:31.816Z"
   },
   {
    "duration": 208,
    "start_time": "2025-02-05T06:12:52.717Z"
   },
   {
    "duration": 634,
    "start_time": "2025-02-05T06:13:36.736Z"
   },
   {
    "duration": 216,
    "start_time": "2025-02-05T06:16:18.414Z"
   },
   {
    "duration": 15,
    "start_time": "2025-02-05T06:20:37.769Z"
   },
   {
    "duration": 108,
    "start_time": "2025-02-05T06:20:57.550Z"
   },
   {
    "duration": 332,
    "start_time": "2025-02-05T06:22:29.455Z"
   },
   {
    "duration": 327,
    "start_time": "2025-02-05T06:22:56.706Z"
   },
   {
    "duration": 397,
    "start_time": "2025-02-05T06:23:10.230Z"
   },
   {
    "duration": 16,
    "start_time": "2025-02-05T06:24:05.415Z"
   },
   {
    "duration": 100,
    "start_time": "2025-02-05T06:24:34.281Z"
   },
   {
    "duration": 58,
    "start_time": "2025-02-05T06:24:57.031Z"
   },
   {
    "duration": 184,
    "start_time": "2025-02-06T04:17:08.263Z"
   },
   {
    "duration": 2711,
    "start_time": "2025-02-06T04:17:20.496Z"
   },
   {
    "duration": 422,
    "start_time": "2025-02-06T04:17:23.209Z"
   },
   {
    "duration": 22,
    "start_time": "2025-02-06T04:17:23.633Z"
   },
   {
    "duration": 95,
    "start_time": "2025-02-06T04:17:23.657Z"
   },
   {
    "duration": 292,
    "start_time": "2025-02-06T04:17:23.754Z"
   },
   {
    "duration": 44,
    "start_time": "2025-02-06T04:17:24.048Z"
   },
   {
    "duration": 56,
    "start_time": "2025-02-06T04:17:24.094Z"
   },
   {
    "duration": 38,
    "start_time": "2025-02-06T04:17:24.152Z"
   },
   {
    "duration": 36,
    "start_time": "2025-02-06T04:17:24.193Z"
   },
   {
    "duration": 92,
    "start_time": "2025-02-06T04:17:24.231Z"
   },
   {
    "duration": 510,
    "start_time": "2025-02-06T04:17:24.326Z"
   },
   {
    "duration": 236,
    "start_time": "2025-02-06T04:17:24.838Z"
   },
   {
    "duration": 121,
    "start_time": "2025-02-06T04:17:25.076Z"
   },
   {
    "duration": 347,
    "start_time": "2025-02-06T04:17:25.200Z"
   },
   {
    "duration": 8,
    "start_time": "2025-02-06T04:17:25.549Z"
   },
   {
    "duration": 0,
    "start_time": "2025-02-06T04:17:25.559Z"
   },
   {
    "duration": 214,
    "start_time": "2025-02-06T04:19:58.593Z"
   },
   {
    "duration": 226,
    "start_time": "2025-02-06T04:20:15.026Z"
   },
   {
    "duration": 333,
    "start_time": "2025-02-06T04:29:54.199Z"
   },
   {
    "duration": 942,
    "start_time": "2025-02-06T04:32:15.216Z"
   },
   {
    "duration": 354,
    "start_time": "2025-02-06T04:32:16.160Z"
   },
   {
    "duration": 25,
    "start_time": "2025-02-06T04:32:16.515Z"
   },
   {
    "duration": 85,
    "start_time": "2025-02-06T04:32:16.542Z"
   },
   {
    "duration": 280,
    "start_time": "2025-02-06T04:32:16.630Z"
   },
   {
    "duration": 27,
    "start_time": "2025-02-06T04:32:16.912Z"
   },
   {
    "duration": 67,
    "start_time": "2025-02-06T04:32:16.940Z"
   },
   {
    "duration": 25,
    "start_time": "2025-02-06T04:32:17.008Z"
   },
   {
    "duration": 34,
    "start_time": "2025-02-06T04:32:17.034Z"
   },
   {
    "duration": 91,
    "start_time": "2025-02-06T04:32:17.087Z"
   },
   {
    "duration": 498,
    "start_time": "2025-02-06T04:32:17.179Z"
   },
   {
    "duration": 268,
    "start_time": "2025-02-06T04:32:17.686Z"
   },
   {
    "duration": 114,
    "start_time": "2025-02-06T04:32:17.956Z"
   },
   {
    "duration": 358,
    "start_time": "2025-02-06T04:32:18.073Z"
   },
   {
    "duration": 3,
    "start_time": "2025-02-06T04:32:18.433Z"
   },
   {
    "duration": 0,
    "start_time": "2025-02-06T04:32:18.438Z"
   },
   {
    "duration": 90,
    "start_time": "2025-02-06T04:35:11.590Z"
   },
   {
    "duration": 7,
    "start_time": "2025-02-06T04:35:36.492Z"
   },
   {
    "duration": 258,
    "start_time": "2025-02-06T05:37:35.683Z"
   },
   {
    "duration": 72,
    "start_time": "2025-02-06T05:40:08.642Z"
   },
   {
    "duration": 118,
    "start_time": "2025-02-06T06:03:50.096Z"
   },
   {
    "duration": 208,
    "start_time": "2025-02-06T06:06:01.546Z"
   },
   {
    "duration": 277,
    "start_time": "2025-02-06T06:07:26.501Z"
   },
   {
    "duration": 8,
    "start_time": "2025-02-06T06:31:22.306Z"
   },
   {
    "duration": 10,
    "start_time": "2025-02-06T17:31:03.311Z"
   },
   {
    "duration": 179,
    "start_time": "2025-02-06T17:37:56.367Z"
   },
   {
    "duration": 2632,
    "start_time": "2025-02-06T17:38:05.485Z"
   },
   {
    "duration": 382,
    "start_time": "2025-02-06T17:38:08.120Z"
   },
   {
    "duration": 20,
    "start_time": "2025-02-06T17:38:08.504Z"
   },
   {
    "duration": 86,
    "start_time": "2025-02-06T17:38:08.526Z"
   },
   {
    "duration": 251,
    "start_time": "2025-02-06T17:38:08.615Z"
   },
   {
    "duration": 28,
    "start_time": "2025-02-06T17:38:08.868Z"
   },
   {
    "duration": 66,
    "start_time": "2025-02-06T17:38:08.897Z"
   },
   {
    "duration": 24,
    "start_time": "2025-02-06T17:38:08.965Z"
   },
   {
    "duration": 42,
    "start_time": "2025-02-06T17:38:08.991Z"
   },
   {
    "duration": 85,
    "start_time": "2025-02-06T17:38:09.035Z"
   },
   {
    "duration": 490,
    "start_time": "2025-02-06T17:38:09.123Z"
   },
   {
    "duration": 124,
    "start_time": "2025-02-06T17:38:09.615Z"
   },
   {
    "duration": 224,
    "start_time": "2025-02-06T17:38:09.741Z"
   },
   {
    "duration": 118,
    "start_time": "2025-02-06T17:38:09.968Z"
   },
   {
    "duration": 392,
    "start_time": "2025-02-06T17:38:10.088Z"
   },
   {
    "duration": 200,
    "start_time": "2025-02-06T17:38:10.482Z"
   },
   {
    "duration": 54,
    "start_time": "2025-02-06T17:38:10.684Z"
   },
   {
    "duration": 281,
    "start_time": "2025-02-06T17:38:10.739Z"
   },
   {
    "duration": 5,
    "start_time": "2025-02-06T17:38:11.022Z"
   },
   {
    "duration": 274,
    "start_time": "2025-02-06T17:38:11.031Z"
   },
   {
    "duration": 158,
    "start_time": "2025-02-06T17:38:27.758Z"
   },
   {
    "duration": 222,
    "start_time": "2025-02-06T17:39:36.062Z"
   },
   {
    "duration": 927,
    "start_time": "2025-02-06T18:29:07.328Z"
   },
   {
    "duration": 350,
    "start_time": "2025-02-06T18:29:08.258Z"
   },
   {
    "duration": 23,
    "start_time": "2025-02-06T18:29:08.609Z"
   },
   {
    "duration": 90,
    "start_time": "2025-02-06T18:29:08.635Z"
   },
   {
    "duration": 252,
    "start_time": "2025-02-06T18:29:08.728Z"
   },
   {
    "duration": 36,
    "start_time": "2025-02-06T18:29:08.982Z"
   },
   {
    "duration": 52,
    "start_time": "2025-02-06T18:29:09.021Z"
   },
   {
    "duration": 38,
    "start_time": "2025-02-06T18:29:09.075Z"
   },
   {
    "duration": 35,
    "start_time": "2025-02-06T18:29:09.114Z"
   },
   {
    "duration": 87,
    "start_time": "2025-02-06T18:29:09.151Z"
   },
   {
    "duration": 498,
    "start_time": "2025-02-06T18:29:09.240Z"
   },
   {
    "duration": 124,
    "start_time": "2025-02-06T18:29:09.739Z"
   },
   {
    "duration": 264,
    "start_time": "2025-02-06T18:29:09.865Z"
   },
   {
    "duration": 119,
    "start_time": "2025-02-06T18:29:10.132Z"
   },
   {
    "duration": 344,
    "start_time": "2025-02-06T18:29:10.252Z"
   },
   {
    "duration": 210,
    "start_time": "2025-02-06T18:29:10.598Z"
   },
   {
    "duration": 53,
    "start_time": "2025-02-06T18:29:10.810Z"
   },
   {
    "duration": 280,
    "start_time": "2025-02-06T18:29:10.865Z"
   },
   {
    "duration": 7,
    "start_time": "2025-02-06T18:29:11.146Z"
   },
   {
    "duration": 188,
    "start_time": "2025-02-06T18:29:11.154Z"
   },
   {
    "duration": 8,
    "start_time": "2025-02-06T18:35:09.578Z"
   },
   {
    "duration": 9,
    "start_time": "2025-02-06T18:36:55.053Z"
   },
   {
    "duration": 57,
    "start_time": "2025-02-06T18:37:34.780Z"
   },
   {
    "duration": 9,
    "start_time": "2025-02-06T18:43:36.490Z"
   },
   {
    "duration": 143,
    "start_time": "2025-02-06T18:43:56.825Z"
   },
   {
    "duration": 70,
    "start_time": "2025-02-06T18:44:19.948Z"
   },
   {
    "duration": 237,
    "start_time": "2025-02-06T18:44:45.829Z"
   },
   {
    "duration": 2629,
    "start_time": "2025-02-07T00:11:11.426Z"
   },
   {
    "duration": 414,
    "start_time": "2025-02-07T00:11:14.057Z"
   },
   {
    "duration": 21,
    "start_time": "2025-02-07T00:11:15.301Z"
   },
   {
    "duration": 75,
    "start_time": "2025-02-07T00:11:15.794Z"
   },
   {
    "duration": 260,
    "start_time": "2025-02-07T00:11:16.277Z"
   },
   {
    "duration": 30,
    "start_time": "2025-02-07T00:11:16.724Z"
   },
   {
    "duration": 54,
    "start_time": "2025-02-07T00:11:17.618Z"
   },
   {
    "duration": 24,
    "start_time": "2025-02-07T00:11:18.065Z"
   },
   {
    "duration": 36,
    "start_time": "2025-02-07T00:11:18.534Z"
   },
   {
    "duration": 74,
    "start_time": "2025-02-07T00:11:19.408Z"
   },
   {
    "duration": 477,
    "start_time": "2025-02-07T00:11:20.603Z"
   },
   {
    "duration": 120,
    "start_time": "2025-02-07T00:11:21.421Z"
   },
   {
    "duration": 208,
    "start_time": "2025-02-07T00:11:22.258Z"
   },
   {
    "duration": 107,
    "start_time": "2025-02-07T00:11:24.610Z"
   },
   {
    "duration": 346,
    "start_time": "2025-02-07T00:11:25.577Z"
   },
   {
    "duration": 212,
    "start_time": "2025-02-07T00:11:26.419Z"
   },
   {
    "duration": 56,
    "start_time": "2025-02-07T00:11:28.101Z"
   },
   {
    "duration": 274,
    "start_time": "2025-02-07T00:11:28.542Z"
   },
   {
    "duration": 7,
    "start_time": "2025-02-07T00:11:29.352Z"
   },
   {
    "duration": 227,
    "start_time": "2025-02-07T00:11:31.952Z"
   },
   {
    "duration": 3,
    "start_time": "2025-02-07T01:45:13.654Z"
   },
   {
    "duration": 325,
    "start_time": "2025-02-07T01:45:14.327Z"
   },
   {
    "duration": 18,
    "start_time": "2025-02-07T01:45:15.660Z"
   },
   {
    "duration": 98,
    "start_time": "2025-02-07T01:45:16.505Z"
   },
   {
    "duration": 233,
    "start_time": "2025-02-07T01:45:17.022Z"
   },
   {
    "duration": 29,
    "start_time": "2025-02-07T01:45:17.266Z"
   },
   {
    "duration": 43,
    "start_time": "2025-02-07T01:45:17.957Z"
   },
   {
    "duration": 25,
    "start_time": "2025-02-07T01:45:18.525Z"
   },
   {
    "duration": 83,
    "start_time": "2025-02-07T01:45:19.002Z"
   },
   {
    "duration": 9,
    "start_time": "2025-02-07T01:46:24.630Z"
   },
   {
    "duration": 4,
    "start_time": "2025-02-07T01:46:57.827Z"
   },
   {
    "duration": 517,
    "start_time": "2025-02-07T01:50:31.876Z"
   },
   {
    "duration": 108,
    "start_time": "2025-02-07T01:57:35.927Z"
   },
   {
    "duration": 5,
    "start_time": "2025-02-07T01:57:45.991Z"
   },
   {
    "duration": 553,
    "start_time": "2025-02-07T01:57:46.453Z"
   },
   {
    "duration": 28,
    "start_time": "2025-02-07T01:57:58.511Z"
   },
   {
    "duration": 4,
    "start_time": "2025-02-07T01:58:29.963Z"
   },
   {
    "duration": 139,
    "start_time": "2025-02-07T01:58:41.940Z"
   },
   {
    "duration": 544,
    "start_time": "2025-02-07T01:58:42.506Z"
   },
   {
    "duration": 5,
    "start_time": "2025-02-07T01:58:43.054Z"
   },
   {
    "duration": 45,
    "start_time": "2025-02-07T01:58:43.071Z"
   },
   {
    "duration": 0,
    "start_time": "2025-02-07T01:58:43.119Z"
   },
   {
    "duration": 0,
    "start_time": "2025-02-07T01:58:43.120Z"
   },
   {
    "duration": 0,
    "start_time": "2025-02-07T01:58:43.121Z"
   },
   {
    "duration": 0,
    "start_time": "2025-02-07T01:58:43.122Z"
   },
   {
    "duration": 0,
    "start_time": "2025-02-07T01:58:43.123Z"
   },
   {
    "duration": 873,
    "start_time": "2025-02-07T01:59:19.052Z"
   },
   {
    "duration": 339,
    "start_time": "2025-02-07T01:59:19.928Z"
   },
   {
    "duration": 20,
    "start_time": "2025-02-07T01:59:20.269Z"
   },
   {
    "duration": 87,
    "start_time": "2025-02-07T01:59:20.292Z"
   },
   {
    "duration": 255,
    "start_time": "2025-02-07T01:59:20.381Z"
   },
   {
    "duration": 33,
    "start_time": "2025-02-07T01:59:20.638Z"
   },
   {
    "duration": 55,
    "start_time": "2025-02-07T01:59:20.673Z"
   },
   {
    "duration": 23,
    "start_time": "2025-02-07T01:59:20.729Z"
   },
   {
    "duration": 46,
    "start_time": "2025-02-07T01:59:20.754Z"
   },
   {
    "duration": 88,
    "start_time": "2025-02-07T01:59:20.802Z"
   },
   {
    "duration": 501,
    "start_time": "2025-02-07T01:59:20.891Z"
   },
   {
    "duration": 135,
    "start_time": "2025-02-07T01:59:21.394Z"
   },
   {
    "duration": 287,
    "start_time": "2025-02-07T01:59:21.531Z"
   },
   {
    "duration": 116,
    "start_time": "2025-02-07T01:59:21.821Z"
   },
   {
    "duration": 341,
    "start_time": "2025-02-07T01:59:21.939Z"
   },
   {
    "duration": 5,
    "start_time": "2025-02-07T01:59:22.282Z"
   },
   {
    "duration": 218,
    "start_time": "2025-02-07T01:59:22.289Z"
   },
   {
    "duration": 3,
    "start_time": "2025-02-07T01:59:22.510Z"
   },
   {
    "duration": 0,
    "start_time": "2025-02-07T01:59:22.515Z"
   },
   {
    "duration": 0,
    "start_time": "2025-02-07T01:59:22.517Z"
   },
   {
    "duration": 0,
    "start_time": "2025-02-07T01:59:22.518Z"
   },
   {
    "duration": 0,
    "start_time": "2025-02-07T01:59:22.519Z"
   },
   {
    "duration": 57,
    "start_time": "2025-02-07T01:59:41.614Z"
   },
   {
    "duration": 278,
    "start_time": "2025-02-07T01:59:42.166Z"
   },
   {
    "duration": 7,
    "start_time": "2025-02-07T01:59:43.004Z"
   },
   {
    "duration": 231,
    "start_time": "2025-02-07T01:59:44.443Z"
   }
  ],
  "kernelspec": {
   "display_name": "Python 3 (ipykernel)",
   "language": "python",
   "name": "python3"
  },
  "language_info": {
   "codemirror_mode": {
    "name": "ipython",
    "version": 3
   },
   "file_extension": ".py",
   "mimetype": "text/x-python",
   "name": "python",
   "nbconvert_exporter": "python",
   "pygments_lexer": "ipython3",
   "version": "3.9.19"
  },
  "toc": {
   "base_numbering": 1,
   "nav_menu": {},
   "number_sections": true,
   "sideBar": true,
   "skip_h1_title": true,
   "title_cell": "Table of Contents",
   "title_sidebar": "Contents",
   "toc_cell": false,
   "toc_position": {},
   "toc_section_display": true,
   "toc_window_display": false
  }
 },
 "nbformat": 4,
 "nbformat_minor": 2
}
